{
  "cells": [
    {
      "cell_type": "markdown",
      "metadata": {
        "id": "view-in-github",
        "colab_type": "text"
      },
      "source": [
        "<a href=\"https://colab.research.google.com/github/AnusuiyaBhorkar/Effects-of-data-amount-and-variation-in-deep-learning-based-TB-diagnosis-in-chest-X-ray-scans/blob/main/Step_3.ipynb\" target=\"_parent\"><img src=\"https://colab.research.google.com/assets/colab-badge.svg\" alt=\"Open In Colab\"/></a>"
      ]
    },
    {
      "cell_type": "code",
      "execution_count": null,
      "metadata": {
        "colab": {
          "base_uri": "https://localhost:8080/"
        },
        "id": "vVW8AopvrDGp",
        "outputId": "09d517e6-fc7a-4499-dbff-8c1672c31f7f"
      },
      "outputs": [
        {
          "output_type": "stream",
          "name": "stdout",
          "text": [
            "Mounted at /content/drive\n"
          ]
        }
      ],
      "source": [
        "from google.colab import drive\n",
        "drive.mount('/content/drive')"
      ]
    },
    {
      "cell_type": "code",
      "execution_count": null,
      "metadata": {
        "id": "RG-0Prx0rJKg"
      },
      "outputs": [],
      "source": [
        "import os\n",
        "from PIL import Image\n",
        "import matplotlib.pyplot as plt\n",
        "import numpy as np\n",
        "import tensorflow as tf\n",
        "from sklearn.metrics import confusion_matrix # new\n",
        "import seaborn as sns # new"
      ]
    },
    {
      "cell_type": "code",
      "source": [
        "# RG - recently added\n",
        "def get_tf_data(data_path, batch_size, image_size, seed, split_ratio): # remember to keep the same seed and split_ratio as how each model was trained\n",
        "    train_ds = tf.keras.utils.image_dataset_from_directory(\n",
        "        data_path,\n",
        "        color_mode=\"grayscale\",\n",
        "        label_mode=\"binary\",\n",
        "        batch_size=batch_size,\n",
        "        image_size=(image_size[0], image_size[1]),\n",
        "        shuffle=True,\n",
        "        seed=seed,\n",
        "        validation_split=split_ratio,\n",
        "        subset=\"training\"\n",
        "    ) # train_ds still has to be initialised\n",
        "\n",
        "    val_ds = tf.keras.utils.image_dataset_from_directory(\n",
        "        data_path,\n",
        "        color_mode=\"grayscale\",\n",
        "        label_mode=\"binary\",\n",
        "        batch_size=batch_size,\n",
        "        image_size=(image_size[0], image_size[1]),\n",
        "        shuffle=True,\n",
        "        seed=seed,\n",
        "        validation_split=split_ratio,\n",
        "        subset=\"validation\"\n",
        "    )\n",
        "    return val_ds #train_ds doesn't need to be returned as it will not be used"
      ],
      "metadata": {
        "id": "ABzp_YkZX3ez"
      },
      "execution_count": null,
      "outputs": []
    },
    {
      "cell_type": "markdown",
      "metadata": {
        "id": "QxuDKKSvoSKz"
      },
      "source": [
        "**Testing on Dataset A (Montgomery)**"
      ]
    },
    {
      "cell_type": "code",
      "execution_count": null,
      "metadata": {
        "id": "F4juhdaTrYqb"
      },
      "outputs": [],
      "source": [
        "data_path = '/content/drive/MyDrive/Veritas AI/Veritas AI - Anusuiya/data/MontgomerySet'\n",
        "batch_size = 8\n",
        "image_size = (224, 224, 1)\n",
        "split_ratio = 0.20\n",
        "#1 is the number of channels, everything is grayscale and everything is only one channel\n",
        "seed = 42\n",
        "epochs = 50"
      ]
    },
    {
      "cell_type": "code",
      "execution_count": null,
      "metadata": {
        "colab": {
          "base_uri": "https://localhost:8080/"
        },
        "id": "jrx_QEcIr4eW",
        "outputId": "9dbd0f36-87e4-4aa5-c4a4-0e9bbf342469"
      },
      "outputs": [
        {
          "output_type": "stream",
          "name": "stdout",
          "text": [
            "Found 138 files belonging to 2 classes.\n",
            "Using 111 files for training.\n",
            "Found 138 files belonging to 2 classes.\n",
            "Using 27 files for validation.\n"
          ]
        }
      ],
      "source": [
        "val_ds = get_tf_data(data_path, batch_size, image_size, seed, split_ratio)"
      ]
    },
    {
      "cell_type": "code",
      "execution_count": null,
      "metadata": {
        "id": "EFFhRX9xsMSk",
        "colab": {
          "base_uri": "https://localhost:8080/"
        },
        "outputId": "791ea8fd-f519-4629-f6fd-c94b901b1211"
      },
      "outputs": [
        {
          "output_type": "stream",
          "name": "stderr",
          "text": [
            "WARNING:absl:Compiled the loaded model, but the compiled metrics have yet to be built. `model.compile_metrics` will be empty until you train or evaluate the model.\n"
          ]
        }
      ],
      "source": [
        "dataset_A = tf.keras.models.load_model('/content/drive/MyDrive/Veritas AI/Veritas AI - Anusuiya/code/models/M_2.h5')"
      ]
    },
    {
      "cell_type": "code",
      "source": [
        "dataset_A.compile(\n",
        "    optimizer='Adam',  # Or the optimizer you used originally\n",
        "    loss='binary_focal_crossentropy',  # Or your specific loss function\n",
        "    metrics=['accuracy']  # This should be a flat list\n",
        ")"
      ],
      "metadata": {
        "id": "4dIvZoxjnXbG"
      },
      "execution_count": null,
      "outputs": []
    },
    {
      "cell_type": "code",
      "execution_count": null,
      "metadata": {
        "colab": {
          "base_uri": "https://localhost:8080/"
        },
        "id": "qNIuSHSEmP0n",
        "outputId": "fa404af3-014e-4749-f3d7-9d947d0ebd0f"
      },
      "outputs": [
        {
          "output_type": "stream",
          "name": "stdout",
          "text": [
            "\u001b[1m4/4\u001b[0m \u001b[32m━━━━━━━━━━━━━━━━━━━━\u001b[0m\u001b[37m\u001b[0m \u001b[1m10s\u001b[0m 760ms/step - accuracy: 0.8931 - loss: 1.1563\n"
          ]
        },
        {
          "output_type": "execute_result",
          "data": {
            "text/plain": [
              "[1.3218324184417725, 0.8888888955116272]"
            ]
          },
          "metadata": {},
          "execution_count": 9
        }
      ],
      "source": [
        "dataset_A.evaluate(val_ds)"
      ]
    },
    {
      "cell_type": "code",
      "execution_count": null,
      "metadata": {
        "id": "zDY72pADeQHg"
      },
      "outputs": [],
      "source": [
        "def convert_tf_ds_to_np(data_ds):\n",
        "  images = []\n",
        "  labels = []\n",
        "  i = 0\n",
        "  for images_batch, labels_batch in data_ds.as_numpy_iterator():\n",
        "    images.append(images_batch)\n",
        "    labels.append(labels_batch)\n",
        "    # i = i + 1\n",
        "    # if i > 5:\n",
        "    #   break\n",
        "  images = np.concatenate(images, axis=0)\n",
        "  labels = np.concatenate(labels, axis=0).astype(int)\n",
        "  return images, labels"
      ]
    },
    {
      "cell_type": "code",
      "execution_count": null,
      "metadata": {
        "id": "-vNroDNveWPd"
      },
      "outputs": [],
      "source": [
        "images, true_labels = convert_tf_ds_to_np(val_ds)"
      ]
    },
    {
      "cell_type": "code",
      "execution_count": null,
      "metadata": {
        "id": "U78810b6eaxW",
        "colab": {
          "base_uri": "https://localhost:8080/"
        },
        "outputId": "d59c691a-e832-40cd-abad-a10e4e4acf53"
      },
      "outputs": [
        {
          "output_type": "stream",
          "name": "stdout",
          "text": [
            "\u001b[1m1/1\u001b[0m \u001b[32m━━━━━━━━━━━━━━━━━━━━\u001b[0m\u001b[37m\u001b[0m \u001b[1m8s\u001b[0m 8s/step\n"
          ]
        }
      ],
      "source": [
        "pred_labels_A = dataset_A.predict(images)\n",
        "pred_labels_A = (pred_labels_A >= 0.5).astype(int)"
      ]
    },
    {
      "cell_type": "code",
      "execution_count": null,
      "metadata": {
        "id": "rzGG6GgJelca",
        "colab": {
          "base_uri": "https://localhost:8080/",
          "height": 718
        },
        "outputId": "01e68b0e-312c-402b-b689-b281aa344943"
      },
      "outputs": [
        {
          "output_type": "display_data",
          "data": {
            "text/plain": [
              "<Figure size 800x800 with 2 Axes>"
            ],
            "image/png": "[encoded data removed]"
          },
          "metadata": {}
        }
      ],
      "source": [
        "# Calculate the confusion matrix\n",
        "cm = confusion_matrix(true_labels, pred_labels_A)\n",
        "\n",
        "# Display the confusion matrix\n",
        "fig, ax = plt.subplots(figsize=(8, 8))  # Adjust the size as needed\n",
        "sns.heatmap(cm, annot=True, fmt='d', cmap='Blues', xticklabels=['Normal', 'Tuberculosis'], yticklabels=['Normal', 'Tuberculosis'])\n",
        "plt.ylabel('Actual')\n",
        "plt.xlabel('Predicted')\n",
        "plt.title('Confusion Matrix')\n",
        "plt.show()"
      ]
    },
    {
      "cell_type": "code",
      "execution_count": null,
      "metadata": {
        "id": "MPBCNoURawY7",
        "colab": {
          "base_uri": "https://localhost:8080/"
        },
        "outputId": "3ea65fc6-67af-47a7-fe31-e7db26578a04"
      },
      "outputs": [
        {
          "output_type": "stream",
          "name": "stderr",
          "text": [
            "WARNING:absl:Compiled the loaded model, but the compiled metrics have yet to be built. `model.compile_metrics` will be empty until you train or evaluate the model.\n"
          ]
        }
      ],
      "source": [
        "dataset_B = tf.keras.models.load_model('/content/drive/MyDrive/Veritas AI/Veritas AI - Anusuiya/code/models/S2.h5')"
      ]
    },
    {
      "cell_type": "code",
      "source": [
        "dataset_B.compile(\n",
        "    optimizer='Adam',  # Or the optimizer you used originally\n",
        "    loss='binary_focal_crossentropy',  # Or your specific loss function\n",
        "    metrics=['accuracy']  # This should be a flat list\n",
        ")"
      ],
      "metadata": {
        "id": "ow14CKq4nvPj"
      },
      "execution_count": null,
      "outputs": []
    },
    {
      "cell_type": "code",
      "execution_count": null,
      "metadata": {
        "id": "MMqagja5K6Dx",
        "colab": {
          "base_uri": "https://localhost:8080/"
        },
        "outputId": "9e9b25b9-a8c6-4c2e-8cea-47b6142940b4"
      },
      "outputs": [
        {
          "output_type": "stream",
          "name": "stdout",
          "text": [
            "\u001b[1m4/4\u001b[0m \u001b[32m━━━━━━━━━━━━━━━━━━━━\u001b[0m\u001b[37m\u001b[0m \u001b[1m2s\u001b[0m 160ms/step - accuracy: 0.5454 - loss: 0.9028\n"
          ]
        },
        {
          "output_type": "execute_result",
          "data": {
            "text/plain": [
              "[0.7997638583183289, 0.5925925970077515]"
            ]
          },
          "metadata": {},
          "execution_count": 17
        }
      ],
      "source": [
        "dataset_B.evaluate(val_ds)"
      ]
    },
    {
      "cell_type": "code",
      "execution_count": null,
      "metadata": {
        "id": "wQq1LiAJK6Vs",
        "colab": {
          "base_uri": "https://localhost:8080/"
        },
        "outputId": "10a15264-1223-4307-efd2-14c7ba579dd6"
      },
      "outputs": [
        {
          "output_type": "stream",
          "name": "stderr",
          "text": [
            "WARNING:absl:Compiled the loaded model, but the compiled metrics have yet to be built. `model.compile_metrics` will be empty until you train or evaluate the model.\n"
          ]
        }
      ],
      "source": [
        "dataset_C = tf.keras.models.load_model('/content/drive/MyDrive/Veritas AI/Veritas AI - Anusuiya/code/models/T2.h5')"
      ]
    },
    {
      "cell_type": "code",
      "source": [
        "dataset_C.compile(\n",
        "    optimizer='Adam',  # Or the optimizer you used originally\n",
        "    loss='binary_focal_crossentropy',  # Or your specific loss function\n",
        "    metrics=['accuracy']  # This should be a flat list\n",
        ")"
      ],
      "metadata": {
        "id": "M3nZHt-d0AjK"
      },
      "execution_count": null,
      "outputs": []
    },
    {
      "cell_type": "code",
      "execution_count": null,
      "metadata": {
        "colab": {
          "base_uri": "https://localhost:8080/"
        },
        "id": "FLPEzCAaLA0a",
        "outputId": "4da3db25-d149-43a7-ead8-143cb56a9ca1"
      },
      "outputs": [
        {
          "output_type": "stream",
          "name": "stdout",
          "text": [
            "\u001b[1m4/4\u001b[0m \u001b[32m━━━━━━━━━━━━━━━━━━━━\u001b[0m\u001b[37m\u001b[0m \u001b[1m2s\u001b[0m 159ms/step - accuracy: 0.5657 - loss: 33.8316\n"
          ]
        },
        {
          "output_type": "execute_result",
          "data": {
            "text/plain": [
              "[35.751834869384766, 0.5185185074806213]"
            ]
          },
          "metadata": {},
          "execution_count": 20
        }
      ],
      "source": [
        "dataset_C.evaluate(val_ds)"
      ]
    },
    {
      "cell_type": "code",
      "execution_count": null,
      "metadata": {
        "id": "yE7OP2BSLCAY",
        "colab": {
          "base_uri": "https://localhost:8080/"
        },
        "outputId": "23101039-5075-4e70-9fe4-e7597005ed96"
      },
      "outputs": [
        {
          "output_type": "stream",
          "name": "stderr",
          "text": [
            "WARNING:absl:Compiled the loaded model, but the compiled metrics have yet to be built. `model.compile_metrics` will be empty until you train or evaluate the model.\n"
          ]
        }
      ],
      "source": [
        "dataset_A_B_C = tf.keras.models.load_model('/content/drive/MyDrive/Veritas AI/Veritas AI - Anusuiya/code/models/MST_.h5')"
      ]
    },
    {
      "cell_type": "code",
      "source": [
        "dataset_A_B_C.compile(\n",
        "    optimizer='Adam',  # Or the optimizer you used originally\n",
        "    loss='binary_focal_crossentropy',  # Or your specific loss function\n",
        "    metrics=['accuracy']  # This should be a flat list\n",
        ")"
      ],
      "metadata": {
        "id": "Jnkzp7O4Lvi4"
      },
      "execution_count": null,
      "outputs": []
    },
    {
      "cell_type": "code",
      "execution_count": null,
      "metadata": {
        "colab": {
          "base_uri": "https://localhost:8080/"
        },
        "id": "pMxDR5wYMmIu",
        "outputId": "5a87dfa3-cad1-4247-89c5-4aa8c156e560"
      },
      "outputs": [
        {
          "output_type": "stream",
          "name": "stdout",
          "text": [
            "\u001b[1m4/4\u001b[0m \u001b[32m━━━━━━━━━━━━━━━━━━━━\u001b[0m\u001b[37m\u001b[0m \u001b[1m2s\u001b[0m 159ms/step - accuracy: 1.0000 - loss: 0.0017\n"
          ]
        },
        {
          "output_type": "execute_result",
          "data": {
            "text/plain": [
              "[0.0016855953726917505, 1.0]"
            ]
          },
          "metadata": {},
          "execution_count": 23
        }
      ],
      "source": [
        "dataset_A_B_C.evaluate(val_ds)"
      ]
    },
    {
      "cell_type": "markdown",
      "metadata": {
        "id": "nlx28CxWB6db"
      },
      "source": [
        "**Testing on Dataset B (Shenzhen)**"
      ]
    },
    {
      "cell_type": "code",
      "execution_count": null,
      "metadata": {
        "id": "FpBkm_eKN7jq"
      },
      "outputs": [],
      "source": [
        "data_path_2 = '/content/drive/MyDrive/Veritas AI/Veritas AI - Anusuiya/data/ChinaSet'\n",
        "batch_size = 8\n",
        "image_size = (224, 224, 1)\n",
        "#1 is the number of channels, everything is grayscale and everything is only one channel\n",
        "seed = 42\n",
        "epochs = 50\n",
        "split_ratio = 0.20"
      ]
    },
    {
      "cell_type": "code",
      "execution_count": null,
      "metadata": {
        "colab": {
          "base_uri": "https://localhost:8080/"
        },
        "id": "75ySae4GN6ua",
        "outputId": "c7b8a419-2416-479b-ce5b-194d19fe27a8"
      },
      "outputs": [
        {
          "output_type": "stream",
          "name": "stdout",
          "text": [
            "Found 662 files belonging to 2 classes.\n",
            "Using 530 files for training.\n",
            "Found 662 files belonging to 2 classes.\n",
            "Using 132 files for validation.\n"
          ]
        }
      ],
      "source": [
        "val_ds = get_tf_data(data_path_2, batch_size, image_size, seed, split_ratio)"
      ]
    },
    {
      "cell_type": "code",
      "execution_count": null,
      "metadata": {
        "colab": {
          "base_uri": "https://localhost:8080/"
        },
        "id": "9bmW1C1tNcSU",
        "outputId": "d8769f14-3c0f-4ddc-b5da-adf334bbd9ca"
      },
      "outputs": [
        {
          "output_type": "stream",
          "name": "stdout",
          "text": [
            "\u001b[1m17/17\u001b[0m \u001b[32m━━━━━━━━━━━━━━━━━━━━\u001b[0m\u001b[37m\u001b[0m \u001b[1m14s\u001b[0m 705ms/step - accuracy: 0.5259 - loss: 3.8724\n"
          ]
        },
        {
          "output_type": "execute_result",
          "data": {
            "text/plain": [
              "[3.863003730773926, 0.5227272510528564]"
            ]
          },
          "metadata": {},
          "execution_count": 26
        }
      ],
      "source": [
        "dataset_A.evaluate(val_ds)"
      ]
    },
    {
      "cell_type": "code",
      "execution_count": null,
      "metadata": {
        "colab": {
          "base_uri": "https://localhost:8080/"
        },
        "id": "sgOObdppNcSV",
        "outputId": "b06ccd53-3216-4bcd-a926-2a9984a0632d"
      },
      "outputs": [
        {
          "output_type": "stream",
          "name": "stdout",
          "text": [
            "\u001b[1m17/17\u001b[0m \u001b[32m━━━━━━━━━━━━━━━━━━━━\u001b[0m\u001b[37m\u001b[0m \u001b[1m1s\u001b[0m 71ms/step - accuracy: 0.8681 - loss: 0.2611\n"
          ]
        },
        {
          "output_type": "execute_result",
          "data": {
            "text/plain": [
              "[0.337625116109848, 0.7954545617103577]"
            ]
          },
          "metadata": {},
          "execution_count": 27
        }
      ],
      "source": [
        "dataset_B.evaluate(val_ds)"
      ]
    },
    {
      "cell_type": "code",
      "execution_count": null,
      "metadata": {
        "id": "7dIiSXkclrBQ"
      },
      "outputs": [],
      "source": [
        "def convert_tf_ds_to_np(data_ds):\n",
        "  images_2 = []\n",
        "  labels_2 = []\n",
        "  i = 0\n",
        "  for images_batch_2, labels_batch_2 in data_ds.as_numpy_iterator():\n",
        "    images_2.append(images_batch_2)\n",
        "    labels_2.append(labels_batch_2)\n",
        "    # i = i + 1\n",
        "    # if i > 5:\n",
        "    #   break\n",
        "  images_2 = np.concatenate(images_2, axis=0)\n",
        "  labels_2 = np.concatenate(labels_2, axis=0).astype(int)\n",
        "  return images_2, labels_2"
      ]
    },
    {
      "cell_type": "code",
      "execution_count": null,
      "metadata": {
        "id": "Tm9zWkpGmHDO"
      },
      "outputs": [],
      "source": [
        "images_2, true_labels = convert_tf_ds_to_np(val_ds)"
      ]
    },
    {
      "cell_type": "code",
      "execution_count": null,
      "metadata": {
        "colab": {
          "base_uri": "https://localhost:8080/"
        },
        "id": "QpS-azsofD9D",
        "outputId": "23ae7453-154d-4c90-95e1-63fa42f0b7ae"
      },
      "outputs": [
        {
          "output_type": "stream",
          "name": "stdout",
          "text": [
            "\u001b[1m5/5\u001b[0m \u001b[32m━━━━━━━━━━━━━━━━━━━━\u001b[0m\u001b[37m\u001b[0m \u001b[1m12s\u001b[0m 205ms/step\n"
          ]
        }
      ],
      "source": [
        "pred_labels_B = dataset_B.predict(images_2)\n",
        "pred_labels_B = (pred_labels_B >= 0.5).astype(int)"
      ]
    },
    {
      "cell_type": "code",
      "execution_count": null,
      "metadata": {
        "colab": {
          "base_uri": "https://localhost:8080/",
          "height": 718
        },
        "id": "UjNvlJLAfD9D",
        "outputId": "da95303c-b031-4401-c8bb-22c1eaca9558"
      },
      "outputs": [
        {
          "output_type": "display_data",
          "data": {
            "text/plain": [
              "<Figure size 800x800 with 2 Axes>"
            ],
            "image/png": "[encoded data removed]"
          },
          "metadata": {}
        }
      ],
      "source": [
        "# Calculate the confusion matrix\n",
        "cm = confusion_matrix(true_labels, pred_labels_B)\n",
        "\n",
        "# Display the confusion matrix\n",
        "fig, ax = plt.subplots(figsize=(8, 8))  # Adjust the size as needed\n",
        "sns.heatmap(cm, annot=True, fmt='d', cmap='Blues', xticklabels=['Normal', 'Tuberculosis'], yticklabels=['Normal', 'Tuberculosis'])\n",
        "plt.ylabel('Actual')\n",
        "plt.xlabel('Predicted')\n",
        "plt.title('Confusion Matrix')\n",
        "plt.show()"
      ]
    },
    {
      "cell_type": "code",
      "execution_count": null,
      "metadata": {
        "colab": {
          "base_uri": "https://localhost:8080/"
        },
        "id": "VeSdIY8kSfCt",
        "outputId": "0e0a310f-02d2-4e05-81de-9f477d40eccf"
      },
      "outputs": [
        {
          "output_type": "stream",
          "name": "stdout",
          "text": [
            "\u001b[1m17/17\u001b[0m \u001b[32m━━━━━━━━━━━━━━━━━━━━\u001b[0m\u001b[37m\u001b[0m \u001b[1m1s\u001b[0m 75ms/step - accuracy: 0.6909 - loss: 4.9546\n"
          ]
        },
        {
          "output_type": "execute_result",
          "data": {
            "text/plain": [
              "[3.8548331260681152, 0.7348484992980957]"
            ]
          },
          "metadata": {},
          "execution_count": 32
        }
      ],
      "source": [
        "dataset_C.evaluate(val_ds)"
      ]
    },
    {
      "cell_type": "code",
      "execution_count": null,
      "metadata": {
        "colab": {
          "base_uri": "https://localhost:8080/"
        },
        "id": "XQPTaTrHNcSX",
        "outputId": "9a63b9f2-1506-4d30-c184-2f373daebacb"
      },
      "outputs": [
        {
          "output_type": "stream",
          "name": "stdout",
          "text": [
            "\u001b[1m17/17\u001b[0m \u001b[32m━━━━━━━━━━━━━━━━━━━━\u001b[0m\u001b[37m\u001b[0m \u001b[1m1s\u001b[0m 72ms/step - accuracy: 0.9808 - loss: 0.0903\n"
          ]
        },
        {
          "output_type": "execute_result",
          "data": {
            "text/plain": [
              "[0.1837589591741562, 0.9545454382896423]"
            ]
          },
          "metadata": {},
          "execution_count": 33
        }
      ],
      "source": [
        "dataset_A_B_C.evaluate(val_ds)"
      ]
    },
    {
      "cell_type": "markdown",
      "metadata": {
        "id": "8g__M4dBtsAx"
      },
      "source": [
        "**Testing on Dataset C (TB)**"
      ]
    },
    {
      "cell_type": "code",
      "execution_count": null,
      "metadata": {
        "id": "6GTPwDS0OR1G"
      },
      "outputs": [],
      "source": [
        "data_path_3 = '/content/drive/MyDrive/Veritas AI/Veritas AI - Anusuiya/data/TB_Chest_Radiography_Database'\n",
        "batch_size = 8\n",
        "image_size = (224, 224, 1)\n",
        "#1 is the number of channels, everything is grayscale and everything is only one channel\n",
        "seed = 42\n",
        "epochs = 50\n",
        "split_ratio = 0.2"
      ]
    },
    {
      "cell_type": "code",
      "execution_count": null,
      "metadata": {
        "colab": {
          "base_uri": "https://localhost:8080/"
        },
        "id": "LlSJTlHYOR1R",
        "outputId": "b1fc2417-b9ef-47e4-b984-f56dd1c4550c"
      },
      "outputs": [
        {
          "output_type": "stream",
          "name": "stdout",
          "text": [
            "Found 4200 files belonging to 2 classes.\n",
            "Using 3360 files for training.\n",
            "Found 4200 files belonging to 2 classes.\n",
            "Using 840 files for validation.\n"
          ]
        }
      ],
      "source": [
        "val_ds = get_tf_data(data_path_3, batch_size, image_size, seed, split_ratio)"
      ]
    },
    {
      "cell_type": "code",
      "execution_count": null,
      "metadata": {
        "colab": {
          "base_uri": "https://localhost:8080/"
        },
        "id": "gRvghRNqOR1S",
        "outputId": "712e690f-ee14-47c7-ef0d-7570ac12a271"
      },
      "outputs": [
        {
          "output_type": "stream",
          "name": "stdout",
          "text": [
            "\u001b[1m105/105\u001b[0m \u001b[32m━━━━━━━━━━━━━━━━━━━━\u001b[0m\u001b[37m\u001b[0m \u001b[1m53s\u001b[0m 495ms/step - accuracy: 0.2719 - loss: 4.4969\n"
          ]
        },
        {
          "output_type": "execute_result",
          "data": {
            "text/plain": [
              "[4.484478950500488, 0.2809523940086365]"
            ]
          },
          "metadata": {},
          "execution_count": 36
        }
      ],
      "source": [
        "dataset_A.evaluate(val_ds)"
      ]
    },
    {
      "cell_type": "code",
      "execution_count": null,
      "metadata": {
        "colab": {
          "base_uri": "https://localhost:8080/"
        },
        "id": "91TIHXvKOR1S",
        "outputId": "296b4a49-d5c6-4125-d89f-6a884a25b0e9"
      },
      "outputs": [
        {
          "output_type": "stream",
          "name": "stdout",
          "text": [
            "\u001b[1m105/105\u001b[0m \u001b[32m━━━━━━━━━━━━━━━━━━━━\u001b[0m\u001b[37m\u001b[0m \u001b[1m2s\u001b[0m 16ms/step - accuracy: 0.3910 - loss: 0.8657\n"
          ]
        },
        {
          "output_type": "execute_result",
          "data": {
            "text/plain": [
              "[0.876533567905426, 0.37261903285980225]"
            ]
          },
          "metadata": {},
          "execution_count": 37
        }
      ],
      "source": [
        "dataset_B.evaluate(val_ds)"
      ]
    },
    {
      "cell_type": "code",
      "execution_count": null,
      "metadata": {
        "colab": {
          "base_uri": "https://localhost:8080/"
        },
        "id": "zxHdwQHjOR1S",
        "outputId": "0b6c4113-1f20-4f91-e3fa-492e66570244"
      },
      "outputs": [
        {
          "output_type": "stream",
          "name": "stdout",
          "text": [
            "\u001b[1m105/105\u001b[0m \u001b[32m━━━━━━━━━━━━━━━━━━━━\u001b[0m\u001b[37m\u001b[0m \u001b[1m2s\u001b[0m 16ms/step - accuracy: 0.9591 - loss: 0.0667\n"
          ]
        },
        {
          "output_type": "execute_result",
          "data": {
            "text/plain": [
              "[0.06484311074018478, 0.9583333134651184]"
            ]
          },
          "metadata": {},
          "execution_count": 38
        }
      ],
      "source": [
        "dataset_C.evaluate(val_ds)"
      ]
    },
    {
      "cell_type": "code",
      "execution_count": null,
      "metadata": {
        "id": "B_diqD1AaOHc"
      },
      "outputs": [],
      "source": [
        "def convert_tf_ds_to_np(data_ds):\n",
        "  images_3 = []\n",
        "  labels_3 = []\n",
        "  i = 0\n",
        "  for images_batch_3, labels_batch_3 in data_ds.as_numpy_iterator():\n",
        "    images_3.append(images_batch_3)\n",
        "    labels_3.append(labels_batch_3)\n",
        "    # i = i + 1\n",
        "    # if i > 5:\n",
        "    #   break\n",
        "  images_3 = np.concatenate(images_3, axis=0)\n",
        "  labels_3 = np.concatenate(labels_3, axis=0).astype(int)\n",
        "  return images_3, labels_3"
      ]
    },
    {
      "cell_type": "code",
      "source": [
        "images_3, true_labels = convert_tf_ds_to_np(val_ds)"
      ],
      "metadata": {
        "id": "r7blHHhBugh-"
      },
      "execution_count": null,
      "outputs": []
    },
    {
      "cell_type": "code",
      "source": [
        "pred_labels_C = dataset_C.predict(images_3)\n",
        "pred_labels_C = (pred_labels_C >= 0.5).astype(int)"
      ],
      "metadata": {
        "colab": {
          "base_uri": "https://localhost:8080/"
        },
        "id": "F8XTJ--KulqG",
        "outputId": "9ab7e6bc-8379-484e-87a4-3d57acc7c2f7"
      },
      "execution_count": null,
      "outputs": [
        {
          "output_type": "stream",
          "name": "stdout",
          "text": [
            "\u001b[1m27/27\u001b[0m \u001b[32m━━━━━━━━━━━━━━━━━━━━\u001b[0m\u001b[37m\u001b[0m \u001b[1m3s\u001b[0m 88ms/step\n"
          ]
        }
      ]
    },
    {
      "cell_type": "code",
      "source": [
        "# Calculate the confusion matrix\n",
        "cm = confusion_matrix(true_labels, pred_labels_C)\n",
        "\n",
        "# Display the confusion matrix\n",
        "fig, ax = plt.subplots(figsize=(8, 8))  # Adjust the size as needed\n",
        "sns.heatmap(cm, annot=True, fmt='d', cmap='Blues', xticklabels=['Normal', 'Tuberculosis'], yticklabels=['Normal', 'Tuberculosis'])\n",
        "plt.ylabel('Actual')\n",
        "plt.xlabel('Predicted')\n",
        "plt.title('Confusion Matrix')\n",
        "plt.show()"
      ],
      "metadata": {
        "colab": {
          "base_uri": "https://localhost:8080/",
          "height": 718
        },
        "id": "enU2APxmuptj",
        "outputId": "5b2a71f7-6338-443f-b114-5cb0fb22bb15"
      },
      "execution_count": null,
      "outputs": [
        {
          "output_type": "display_data",
          "data": {
            "text/plain": [
              "<Figure size 800x800 with 2 Axes>"
            ],
            "image/png": "[encoded data removed]"
          },
          "metadata": {}
        }
      ]
    },
    {
      "cell_type": "code",
      "execution_count": null,
      "metadata": {
        "colab": {
          "base_uri": "https://localhost:8080/"
        },
        "id": "Mr6fRs3AOR1T",
        "outputId": "61bf1a20-e3b3-4aff-8497-d4344d0ef5ed"
      },
      "outputs": [
        {
          "output_type": "stream",
          "name": "stdout",
          "text": [
            "\u001b[1m105/105\u001b[0m \u001b[32m━━━━━━━━━━━━━━━━━━━━\u001b[0m\u001b[37m\u001b[0m \u001b[1m2s\u001b[0m 17ms/step - accuracy: 0.9962 - loss: 0.0025\n"
          ]
        },
        {
          "output_type": "execute_result",
          "data": {
            "text/plain": [
              "[0.0022865452338010073, 0.9976190328598022]"
            ]
          },
          "metadata": {},
          "execution_count": 43
        }
      ],
      "source": [
        "dataset_A_B_C.evaluate(val_ds)"
      ]
    },
    {
      "cell_type": "markdown",
      "metadata": {
        "id": "Jk-7AVWQtu7q"
      },
      "source": [
        "**Testing on Dataset A + B + C (Fully Combined)**"
      ]
    },
    {
      "cell_type": "code",
      "execution_count": null,
      "metadata": {
        "id": "DN61Vel3OWY1"
      },
      "outputs": [],
      "source": [
        "data_path_4 = '/content/drive/MyDrive/Veritas AI/Veritas AI - Anusuiya/data/combined_MZT_all'\n",
        "batch_size = 8\n",
        "image_size = (224, 224, 1)\n",
        "#1 is the number of channels, everything is grayscale and everything is only one channel\n",
        "seed = 42\n",
        "epochs = 50\n",
        "split_ratio = 0.20"
      ]
    },
    {
      "cell_type": "code",
      "execution_count": null,
      "metadata": {
        "colab": {
          "base_uri": "https://localhost:8080/"
        },
        "id": "trQTx12OOWY1",
        "outputId": "2adc4efc-a6f2-46d4-ec1f-7ba56fbc759c"
      },
      "outputs": [
        {
          "output_type": "stream",
          "name": "stdout",
          "text": [
            "Found 5000 files belonging to 2 classes.\n",
            "Using 4000 files for training.\n",
            "Found 5000 files belonging to 2 classes.\n",
            "Using 1000 files for validation.\n"
          ]
        }
      ],
      "source": [
        "val_ds = get_tf_data(data_path_4, batch_size, image_size, seed, split_ratio)"
      ]
    },
    {
      "cell_type": "code",
      "execution_count": null,
      "metadata": {
        "colab": {
          "base_uri": "https://localhost:8080/"
        },
        "id": "1zsqz-SaOWY1",
        "outputId": "1d4382c9-0f90-49bb-aed5-55e7d27ed934"
      },
      "outputs": [
        {
          "output_type": "stream",
          "name": "stdout",
          "text": [
            "\u001b[1m125/125\u001b[0m \u001b[32m━━━━━━━━━━━━━━━━━━━━\u001b[0m\u001b[37m\u001b[0m \u001b[1m2s\u001b[0m 17ms/step - accuracy: 0.3217 - loss: 4.3526\n"
          ]
        },
        {
          "output_type": "execute_result",
          "data": {
            "text/plain": [
              "[4.250960350036621, 0.32600000500679016]"
            ]
          },
          "metadata": {},
          "execution_count": 51
        }
      ],
      "source": [
        "dataset_A.evaluate(val_ds)"
      ]
    },
    {
      "cell_type": "code",
      "execution_count": null,
      "metadata": {
        "colab": {
          "base_uri": "https://localhost:8080/"
        },
        "id": "KLvdTCYaOWY2",
        "outputId": "ad32fc0a-bf71-4f5b-f262-450373087c7a"
      },
      "outputs": [
        {
          "output_type": "stream",
          "name": "stdout",
          "text": [
            "\u001b[1m125/125\u001b[0m \u001b[32m━━━━━━━━━━━━━━━━━━━━\u001b[0m\u001b[37m\u001b[0m \u001b[1m2s\u001b[0m 16ms/step - accuracy: 0.5098 - loss: 0.6558\n"
          ]
        },
        {
          "output_type": "execute_result",
          "data": {
            "text/plain": [
              "[0.6756811738014221, 0.5049999952316284]"
            ]
          },
          "metadata": {},
          "execution_count": 52
        }
      ],
      "source": [
        "dataset_B.evaluate(val_ds)"
      ]
    },
    {
      "cell_type": "code",
      "execution_count": null,
      "metadata": {
        "colab": {
          "base_uri": "https://localhost:8080/"
        },
        "id": "qDv62TtuOWY2",
        "outputId": "cd9bc33c-af3d-406a-8c61-5d6209825930"
      },
      "outputs": [
        {
          "output_type": "stream",
          "name": "stdout",
          "text": [
            "\u001b[1m125/125\u001b[0m \u001b[32m━━━━━━━━━━━━━━━━━━━━\u001b[0m\u001b[37m\u001b[0m \u001b[1m2s\u001b[0m 17ms/step - accuracy: 0.9544 - loss: 0.4805\n"
          ]
        },
        {
          "output_type": "execute_result",
          "data": {
            "text/plain": [
              "[0.8894193172454834, 0.9509999752044678]"
            ]
          },
          "metadata": {},
          "execution_count": 53
        }
      ],
      "source": [
        "dataset_C.evaluate(val_ds)"
      ]
    },
    {
      "cell_type": "code",
      "execution_count": null,
      "metadata": {
        "colab": {
          "base_uri": "https://localhost:8080/"
        },
        "id": "32nn-XVGOWY2",
        "outputId": "4718631a-4893-4bc0-ce99-f6435e798f80"
      },
      "outputs": [
        {
          "output_type": "stream",
          "name": "stdout",
          "text": [
            "\u001b[1m125/125\u001b[0m \u001b[32m━━━━━━━━━━━━━━━━━━━━\u001b[0m\u001b[37m\u001b[0m \u001b[1m2s\u001b[0m 17ms/step - accuracy: 0.9789 - loss: 0.0556\n"
          ]
        },
        {
          "output_type": "execute_result",
          "data": {
            "text/plain": [
              "[0.06283306330442429, 0.9779999852180481]"
            ]
          },
          "metadata": {},
          "execution_count": 54
        }
      ],
      "source": [
        "dataset_A_B_C.evaluate(val_ds)"
      ]
    },
    {
      "cell_type": "code",
      "execution_count": null,
      "metadata": {
        "id": "KKNBSk-BkGNF"
      },
      "outputs": [],
      "source": [
        "def convert_tf_ds_to_np(data_ds):\n",
        "  images_4 = []\n",
        "  labels_4 = []\n",
        "  i = 0\n",
        "  for images_batch_4, labels_batch_4 in data_ds.as_numpy_iterator():\n",
        "    images_4.append(images_batch_4)\n",
        "    labels_4.append(labels_batch_4)\n",
        "    # i = i + 1\n",
        "    # if i > 5:\n",
        "    #   break\n",
        "  images_4 = np.concatenate(images_4, axis=0)\n",
        "  labels_4 = np.concatenate(labels_4, axis=0).astype(int)\n",
        "  return images_4, labels_4"
      ]
    },
    {
      "cell_type": "code",
      "execution_count": null,
      "metadata": {
        "id": "zhJmwbaakGHh"
      },
      "outputs": [],
      "source": [
        "images_4, true_labels = convert_tf_ds_to_np(val_ds)"
      ]
    },
    {
      "cell_type": "code",
      "execution_count": null,
      "metadata": {
        "colab": {
          "base_uri": "https://localhost:8080/"
        },
        "id": "4sDw5O5VkN-7",
        "outputId": "cccf16bd-2b8a-4001-85eb-5b39e8466a00"
      },
      "outputs": [
        {
          "output_type": "stream",
          "name": "stdout",
          "text": [
            "\u001b[1m32/32\u001b[0m \u001b[32m━━━━━━━━━━━━━━━━━━━━\u001b[0m\u001b[37m\u001b[0m \u001b[1m3s\u001b[0m 84ms/step\n"
          ]
        }
      ],
      "source": [
        "pred_labels_A_B_C = dataset_A_B_C.predict(images_4)\n",
        "pred_labels_A_B_C = (pred_labels_A_B_C >= 0.5).astype(int)"
      ]
    },
    {
      "cell_type": "code",
      "execution_count": null,
      "metadata": {
        "colab": {
          "base_uri": "https://localhost:8080/",
          "height": 718
        },
        "id": "8UW4_VlpkOR2",
        "outputId": "e0a214e8-7efa-4c59-d3bd-8140921bfc83"
      },
      "outputs": [
        {
          "output_type": "display_data",
          "data": {
            "text/plain": [
              "<Figure size 800x800 with 2 Axes>"
            ],
            "image/png": "[encoded data removed]"
          },
          "metadata": {}
        }
      ],
      "source": [
        "# Calculate the confusion matrix\n",
        "cm = confusion_matrix(true_labels, pred_labels_A_B_C)\n",
        "\n",
        "# Display the confusion matrix\n",
        "fig, ax = plt.subplots(figsize=(8, 8))  # Adjust the size as needed\n",
        "sns.heatmap(cm, annot=True, fmt='d', cmap='Blues', xticklabels=['Normal', 'Tuberculosis'], yticklabels=['Normal', 'Tuberculosis'])\n",
        "plt.ylabel('Actual')\n",
        "plt.xlabel('Predicted')\n",
        "plt.title('Confusion Matrix')\n",
        "plt.show()"
      ]
    }
  ],
  "metadata": {
    "accelerator": "GPU",
    "colab": {
      "gpuType": "L4",
      "machine_shape": "hm",
      "provenance": [],
      "include_colab_link": true
    },
    "kernelspec": {
      "display_name": "Python 3",
      "name": "python3"
    },
    "language_info": {
      "name": "python"
    }
  },
  "nbformat": 4,
  "nbformat_minor": 0
}