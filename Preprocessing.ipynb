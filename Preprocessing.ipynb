{
  "cells": [
    {
      "cell_type": "markdown",
      "metadata": {
        "id": "view-in-github",
        "colab_type": "text"
      },
      "source": [
        "<a href=\"https://colab.research.google.com/github/AnusuiyaBhorkar/Effects-of-data-amount-and-variation-in-deep-learning-based-TB-diagnosis-in-chest-X-ray-scans/blob/main/Preprocessing.ipynb\" target=\"_parent\"><img src=\"https://colab.research.google.com/assets/colab-badge.svg\" alt=\"Open In Colab\"/></a>"
      ]
    },
    {
      "cell_type": "code",
      "execution_count": null,
      "metadata": {
        "id": "KAp-89BX_TzA"
      },
      "outputs": [],
      "source": [
        "from google.colab import drive\n",
        "drive.mount('/content/drive')"
      ]
    },
    {
      "cell_type": "code",
      "execution_count": null,
      "metadata": {
        "id": "Wf-j5cGNBQtR"
      },
      "outputs": [],
      "source": [
        "import os\n",
        "from PIL import Image\n",
        "import matplotlib.pyplot as plt\n",
        "import numpy as np"
      ]
    },
    {
      "cell_type": "code",
      "source": [
        "# import shutil"
      ],
      "metadata": {
        "id": "7UvE_XcaZcR6"
      },
      "execution_count": null,
      "outputs": []
    },
    {
      "cell_type": "code",
      "source": [
        "# source_datapath = '/content/drive/MyDrive/Veritas AI/Veritas AI - Anusuiya/data/TB_Chest_Radiography_Database'\n",
        "# destination_datapath = '/content/drive/MyDrive/Veritas AI/Veritas AI - Anusuiya/data/combined'\n",
        "# shutil.copytree(source_datapath, destination_datapath)"
      ],
      "metadata": {
        "id": "MLx0lhPBY_7k"
      },
      "execution_count": null,
      "outputs": []
    },
    {
      "cell_type": "code",
      "execution_count": null,
      "metadata": {
        "id": "LSqxXZXb_vJo"
      },
      "outputs": [],
      "source": [
        "source_datapath = '/content/drive/MyDrive/Veritas AI/Veritas AI - Anusuiya/data/_MontgomerySet/CXR_png'\n",
        "destination_datapath_1 = '/content/drive/MyDrive/Veritas AI/Veritas AI - Anusuiya/data/MontgomerySet/tuberculosis'\n",
        "destination_datapath_0 = '/content/drive/MyDrive/Veritas AI/Veritas AI - Anusuiya/data/MontgomerySet/normal'\n",
        "\n",
        "images_list = os.listdir(source_datapath)"
      ]
    },
    {
      "cell_type": "code",
      "execution_count": null,
      "metadata": {
        "id": "6Mmmym4FBOyZ"
      },
      "outputs": [],
      "source": [
        "image_path = os.path.join(source_datapath, images_list[0])\n",
        "image = Image.open(image_path)"
      ]
    },
    {
      "cell_type": "code",
      "execution_count": null,
      "metadata": {
        "id": "3a9U8fgLBQAw"
      },
      "outputs": [],
      "source": [
        "images_list = os.listdir(source_datapath)\n",
        "\n",
        "#for i in range(0, len(images_list)):\n",
        "#for image_file in images_list:\n",
        "for i, image_file in enumerate(images_list):\n",
        "    #image_path = os.path.join(source_datapath, images_list[i])\n",
        "    image_path = os.path.join(source_datapath, image_file)\n",
        "    image = Image.open(image_path)\n",
        "    image = np.array(image).astype(np.uint8)\n",
        "    #image = Image.fromarray(image)\n",
        "    # Find bounding box coordinates of non-zero pixels\n",
        "    non_zero_rows = np.any(image != 0, axis=1)\n",
        "    non_zero_cols = np.any(image != 0, axis=0)\n",
        "    first_row, last_row = np.where(non_zero_rows)[0][[0, -1]]\n",
        "    first_col, last_col = np.where(non_zero_cols)[0][[0, -1]]\n",
        "\n",
        "    # Crop the image to remove padding\n",
        "    image = image[first_row:last_row + 1, first_col:last_col + 1]\n",
        "\n",
        "    # Convert the cropped image back to PIL Image\n",
        "    image = Image.fromarray(image)\n",
        "\n",
        "    # Save the cropped image to the destination folder\n",
        "    newpath = os.path.join(destination_datapath_0, image_file[0:-3] + \"jpg\")\n",
        "    if image_file[-5] == \"1\":\n",
        "      newpath = os.path.join(destination_datapath_1, image_file[0:-3] + \"jpg\")\n",
        "      image.save(newpath)\n",
        "    elif image_file[-5] == \"0\":\n",
        "      newpath = os.path.join(destination_datapath_0, image_file[0:-3] + \"jpg\")\n",
        "      image.save(newpath)\n",
        "\n",
        "\n",
        "\n",
        "\n",
        "\n",
        "  #1st index, 2nd elementwise, grabbing every element of a list, 3rd both enumerate gives 2 outcomes"
      ]
    }
  ],
  "metadata": {
    "colab": {
      "provenance": [],
      "machine_shape": "hm",
      "gpuType": "L4",
      "include_colab_link": true
    },
    "kernelspec": {
      "display_name": "Python 3",
      "name": "python3"
    },
    "language_info": {
      "name": "python"
    },
    "accelerator": "GPU"
  },
  "nbformat": 4,
  "nbformat_minor": 0
}